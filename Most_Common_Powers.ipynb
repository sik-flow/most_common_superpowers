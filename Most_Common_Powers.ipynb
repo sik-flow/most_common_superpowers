{
 "cells": [
  {
   "cell_type": "markdown",
   "metadata": {},
   "source": [
    "### Sample Question: Most Common Powers\n",
    "\n",
    "The rest of this notebook will be left to you to investigate the dataset by formulating your own questions, and then seeking answers using pandas and numpy.  Every answer should include some sort of visualization, when appropriate. Before moving on to formulating your own questions, use the dataset to answer the following questions about superhero powers:\n",
    "\n",
    "* What are the 5 most common powers overall?\n",
    "* What are the 5 most common powers in the Marvel Universe?\n",
    "* What are the 5 most common powers in the DC Universe?"
   ]
  },
  {
   "cell_type": "markdown",
   "metadata": {},
   "source": [
    "## Step 1: Check the Data Types of all the columns in the dataframe"
   ]
  },
  {
   "cell_type": "code",
   "execution_count": 22,
   "metadata": {},
   "outputs": [
    {
     "data": {
      "text/plain": [
       "Agility                   object\n",
       "Accelerated Healing       object\n",
       "Lantern Power Ring        object\n",
       "Dimensional Awareness     object\n",
       "Cold Resistance           object\n",
       "Durability                object\n",
       "Stealth                   object\n",
       "Energy Absorption         object\n",
       "Flight                    object\n",
       "Danger Sense              object\n",
       "Underwater breathing      object\n",
       "Marksmanship              object\n",
       "Weapons Master            object\n",
       "Power Augmentation        object\n",
       "Animal Attributes         object\n",
       "Longevity                 object\n",
       "Intelligence              object\n",
       "Super Strength            object\n",
       "Cryokinesis               object\n",
       "Telepathy                 object\n",
       "Energy Armor              object\n",
       "Energy Blasts             object\n",
       "Duplication               object\n",
       "Size Changing             object\n",
       "Density Control           object\n",
       "Stamina                   object\n",
       "Astral Travel             object\n",
       "Audio Control             object\n",
       "Dexterity                 object\n",
       "Omnitrix                  object\n",
       "                          ...   \n",
       "Matter Absorption         object\n",
       "The Force                 object\n",
       "Resurrection              object\n",
       "Terrakinesis              object\n",
       "Vision - Heat             object\n",
       "Vitakinesis               object\n",
       "Radar Sense               object\n",
       "Qwardian Power Ring       object\n",
       "Weather Control           object\n",
       "Vision - X-Ray            object\n",
       "Vision - Thermal          object\n",
       "Web Creation              object\n",
       "Reality Warping           object\n",
       "Odin Force                object\n",
       "Symbiote Costume          object\n",
       "Speed Force               object\n",
       "Phoenix Force             object\n",
       "Molecular Dissipation     object\n",
       "Vision - Cryo             object\n",
       "Omnipresent               object\n",
       "Omniscient                object\n",
       "Gender                    object\n",
       "Eye color                 object\n",
       "Race                      object\n",
       "Hair color                object\n",
       "Height                   float64\n",
       "Publisher                 object\n",
       "Skin color                object\n",
       "Alignment                 object\n",
       "Weight                   float64\n",
       "Length: 176, dtype: object"
      ]
     },
     "execution_count": 22,
     "metadata": {},
     "output_type": "execute_result"
    }
   ],
   "source": [
    "heroes_and_powers_df.dtypes"
   ]
  },
  {
   "cell_type": "markdown",
   "metadata": {},
   "source": [
    "Will need to convert to True/False to 1 and 0 so that I can take sums of the columns\n",
    "\n",
    "## Step 2: Convert True/False to 1/0"
   ]
  },
  {
   "cell_type": "code",
   "execution_count": 29,
   "metadata": {},
   "outputs": [],
   "source": [
    "heroes_and_powers_df.replace('True', 1, inplace = True)\n",
    "heroes_and_powers_df.replace('False', 0, inplace = True)"
   ]
  },
  {
   "cell_type": "code",
   "execution_count": 31,
   "metadata": {},
   "outputs": [
    {
     "data": {
      "text/html": [
       "<div>\n",
       "<style scoped>\n",
       "    .dataframe tbody tr th:only-of-type {\n",
       "        vertical-align: middle;\n",
       "    }\n",
       "\n",
       "    .dataframe tbody tr th {\n",
       "        vertical-align: top;\n",
       "    }\n",
       "\n",
       "    .dataframe thead th {\n",
       "        text-align: right;\n",
       "    }\n",
       "</style>\n",
       "<table border=\"1\" class=\"dataframe\">\n",
       "  <thead>\n",
       "    <tr style=\"text-align: right;\">\n",
       "      <th></th>\n",
       "      <th>Agility</th>\n",
       "      <th>Accelerated Healing</th>\n",
       "      <th>Lantern Power Ring</th>\n",
       "      <th>Dimensional Awareness</th>\n",
       "      <th>Cold Resistance</th>\n",
       "      <th>Durability</th>\n",
       "      <th>Stealth</th>\n",
       "      <th>Energy Absorption</th>\n",
       "      <th>Flight</th>\n",
       "      <th>Danger Sense</th>\n",
       "      <th>...</th>\n",
       "      <th>Omniscient</th>\n",
       "      <th>Gender</th>\n",
       "      <th>Eye color</th>\n",
       "      <th>Race</th>\n",
       "      <th>Hair color</th>\n",
       "      <th>Height</th>\n",
       "      <th>Publisher</th>\n",
       "      <th>Skin color</th>\n",
       "      <th>Alignment</th>\n",
       "      <th>Weight</th>\n",
       "    </tr>\n",
       "    <tr>\n",
       "      <th>name</th>\n",
       "      <th></th>\n",
       "      <th></th>\n",
       "      <th></th>\n",
       "      <th></th>\n",
       "      <th></th>\n",
       "      <th></th>\n",
       "      <th></th>\n",
       "      <th></th>\n",
       "      <th></th>\n",
       "      <th></th>\n",
       "      <th></th>\n",
       "      <th></th>\n",
       "      <th></th>\n",
       "      <th></th>\n",
       "      <th></th>\n",
       "      <th></th>\n",
       "      <th></th>\n",
       "      <th></th>\n",
       "      <th></th>\n",
       "      <th></th>\n",
       "      <th></th>\n",
       "    </tr>\n",
       "  </thead>\n",
       "  <tbody>\n",
       "    <tr>\n",
       "      <th>A-Bomb</th>\n",
       "      <td>0</td>\n",
       "      <td>1</td>\n",
       "      <td>0</td>\n",
       "      <td>0</td>\n",
       "      <td>0</td>\n",
       "      <td>1</td>\n",
       "      <td>0</td>\n",
       "      <td>0</td>\n",
       "      <td>0</td>\n",
       "      <td>0</td>\n",
       "      <td>...</td>\n",
       "      <td>0</td>\n",
       "      <td>Male</td>\n",
       "      <td>yellow</td>\n",
       "      <td>Human</td>\n",
       "      <td>No Hair</td>\n",
       "      <td>203.0</td>\n",
       "      <td>Marvel Comics</td>\n",
       "      <td>-</td>\n",
       "      <td>good</td>\n",
       "      <td>441.0</td>\n",
       "    </tr>\n",
       "    <tr>\n",
       "      <th>Abe Sapien</th>\n",
       "      <td>1</td>\n",
       "      <td>1</td>\n",
       "      <td>0</td>\n",
       "      <td>0</td>\n",
       "      <td>1</td>\n",
       "      <td>1</td>\n",
       "      <td>0</td>\n",
       "      <td>0</td>\n",
       "      <td>0</td>\n",
       "      <td>0</td>\n",
       "      <td>...</td>\n",
       "      <td>0</td>\n",
       "      <td>Male</td>\n",
       "      <td>blue</td>\n",
       "      <td>Icthyo Sapien</td>\n",
       "      <td>No Hair</td>\n",
       "      <td>191.0</td>\n",
       "      <td>Dark Horse Comics</td>\n",
       "      <td>blue</td>\n",
       "      <td>good</td>\n",
       "      <td>65.0</td>\n",
       "    </tr>\n",
       "    <tr>\n",
       "      <th>Abin Sur</th>\n",
       "      <td>0</td>\n",
       "      <td>0</td>\n",
       "      <td>1</td>\n",
       "      <td>0</td>\n",
       "      <td>0</td>\n",
       "      <td>0</td>\n",
       "      <td>0</td>\n",
       "      <td>0</td>\n",
       "      <td>0</td>\n",
       "      <td>0</td>\n",
       "      <td>...</td>\n",
       "      <td>0</td>\n",
       "      <td>Male</td>\n",
       "      <td>blue</td>\n",
       "      <td>Ungaran</td>\n",
       "      <td>No Hair</td>\n",
       "      <td>185.0</td>\n",
       "      <td>DC Comics</td>\n",
       "      <td>red</td>\n",
       "      <td>good</td>\n",
       "      <td>90.0</td>\n",
       "    </tr>\n",
       "    <tr>\n",
       "      <th>Abomination</th>\n",
       "      <td>0</td>\n",
       "      <td>1</td>\n",
       "      <td>0</td>\n",
       "      <td>0</td>\n",
       "      <td>0</td>\n",
       "      <td>0</td>\n",
       "      <td>0</td>\n",
       "      <td>0</td>\n",
       "      <td>0</td>\n",
       "      <td>0</td>\n",
       "      <td>...</td>\n",
       "      <td>0</td>\n",
       "      <td>Male</td>\n",
       "      <td>green</td>\n",
       "      <td>Human / Radiation</td>\n",
       "      <td>No Hair</td>\n",
       "      <td>203.0</td>\n",
       "      <td>Marvel Comics</td>\n",
       "      <td>-</td>\n",
       "      <td>bad</td>\n",
       "      <td>441.0</td>\n",
       "    </tr>\n",
       "    <tr>\n",
       "      <th>Abraxas</th>\n",
       "      <td>0</td>\n",
       "      <td>0</td>\n",
       "      <td>0</td>\n",
       "      <td>1</td>\n",
       "      <td>0</td>\n",
       "      <td>0</td>\n",
       "      <td>0</td>\n",
       "      <td>0</td>\n",
       "      <td>1</td>\n",
       "      <td>0</td>\n",
       "      <td>...</td>\n",
       "      <td>0</td>\n",
       "      <td>Male</td>\n",
       "      <td>blue</td>\n",
       "      <td>Cosmic Entity</td>\n",
       "      <td>Black</td>\n",
       "      <td>-99.0</td>\n",
       "      <td>Marvel Comics</td>\n",
       "      <td>-</td>\n",
       "      <td>bad</td>\n",
       "      <td>-99.0</td>\n",
       "    </tr>\n",
       "  </tbody>\n",
       "</table>\n",
       "<p>5 rows × 176 columns</p>\n",
       "</div>"
      ],
      "text/plain": [
       "             Agility  Accelerated Healing  Lantern Power Ring  \\\n",
       "name                                                            \n",
       "A-Bomb             0                    1                   0   \n",
       "Abe Sapien         1                    1                   0   \n",
       "Abin Sur           0                    0                   1   \n",
       "Abomination        0                    1                   0   \n",
       "Abraxas            0                    0                   0   \n",
       "\n",
       "             Dimensional Awareness  Cold Resistance  Durability  Stealth  \\\n",
       "name                                                                       \n",
       "A-Bomb                           0                0           1        0   \n",
       "Abe Sapien                       0                1           1        0   \n",
       "Abin Sur                         0                0           0        0   \n",
       "Abomination                      0                0           0        0   \n",
       "Abraxas                          1                0           0        0   \n",
       "\n",
       "             Energy Absorption  Flight  Danger Sense   ...    Omniscient  \\\n",
       "name                                                   ...                 \n",
       "A-Bomb                       0       0             0   ...             0   \n",
       "Abe Sapien                   0       0             0   ...             0   \n",
       "Abin Sur                     0       0             0   ...             0   \n",
       "Abomination                  0       0             0   ...             0   \n",
       "Abraxas                      0       1             0   ...             0   \n",
       "\n",
       "             Gender  Eye color               Race  Hair color  Height  \\\n",
       "name                                                                    \n",
       "A-Bomb         Male     yellow              Human     No Hair   203.0   \n",
       "Abe Sapien     Male       blue      Icthyo Sapien     No Hair   191.0   \n",
       "Abin Sur       Male       blue            Ungaran     No Hair   185.0   \n",
       "Abomination    Male      green  Human / Radiation     No Hair   203.0   \n",
       "Abraxas        Male       blue      Cosmic Entity       Black   -99.0   \n",
       "\n",
       "                     Publisher  Skin color  Alignment  Weight  \n",
       "name                                                           \n",
       "A-Bomb           Marvel Comics           -       good   441.0  \n",
       "Abe Sapien   Dark Horse Comics        blue       good    65.0  \n",
       "Abin Sur             DC Comics         red       good    90.0  \n",
       "Abomination      Marvel Comics           -        bad   441.0  \n",
       "Abraxas          Marvel Comics           -        bad   -99.0  \n",
       "\n",
       "[5 rows x 176 columns]"
      ]
     },
     "execution_count": 31,
     "metadata": {},
     "output_type": "execute_result"
    }
   ],
   "source": [
    "heroes_and_powers_df.head()"
   ]
  },
  {
   "cell_type": "markdown",
   "metadata": {},
   "source": [
    "## Step 3 For Each Column Count How Many Trues (or 1s) in each Column"
   ]
  },
  {
   "cell_type": "code",
   "execution_count": 35,
   "metadata": {},
   "outputs": [
    {
     "data": {
      "text/plain": [
       "Agility                                                                244\n",
       "Accelerated Healing                                                    181\n",
       "Lantern Power Ring                                                      11\n",
       "Dimensional Awareness                                                   25\n",
       "Cold Resistance                                                         49\n",
       "Durability                                                             262\n",
       "Stealth                                                                132\n",
       "Energy Absorption                                                       77\n",
       "Flight                                                                 212\n",
       "Danger Sense                                                            34\n",
       "Underwater breathing                                                    23\n",
       "Marksmanship                                                           124\n",
       "Weapons Master                                                         107\n",
       "Power Augmentation                                                       8\n",
       "Animal Attributes                                                       26\n",
       "Longevity                                                              116\n",
       "Intelligence                                                           158\n",
       "Super Strength                                                         362\n",
       "Cryokinesis                                                             20\n",
       "Telepathy                                                               92\n",
       "Energy Armor                                                             8\n",
       "Energy Blasts                                                          148\n",
       "Duplication                                                             17\n",
       "Size Changing                                                           55\n",
       "Density Control                                                         15\n",
       "Stamina                                                                294\n",
       "Astral Travel                                                            4\n",
       "Audio Control                                                            8\n",
       "Dexterity                                                                6\n",
       "Omnitrix                                                                 1\n",
       "                                               ...                        \n",
       "Grim Reaping                                                             3\n",
       "Matter Absorption                                                       10\n",
       "The Force                                                                6\n",
       "Resurrection                                                            14\n",
       "Terrakinesis                                                             2\n",
       "Vision - Heat                                                           19\n",
       "Vitakinesis                                                              2\n",
       "Radar Sense                                                              6\n",
       "Qwardian Power Ring                                                      2\n",
       "Weather Control                                                          7\n",
       "Vision - X-Ray                                                          25\n",
       "Vision - Thermal                                                        25\n",
       "Web Creation                                                            16\n",
       "Reality Warping                                                         14\n",
       "Odin Force                                                               2\n",
       "Symbiote Costume                                                        10\n",
       "Speed Force                                                              1\n",
       "Phoenix Force                                                            1\n",
       "Molecular Dissipation                                                    1\n",
       "Vision - Cryo                                                            1\n",
       "Omnipresent                                                              2\n",
       "Omniscient                                                               2\n",
       "Gender                   MaleMaleMaleMaleMaleMaleMaleMaleMaleMaleMaleMa...\n",
       "Eye color                yellowbluebluegreenbluebluebluebluebrown-blueb...\n",
       "Race                     HumanIcthyo SapienUngaranHuman / RadiationCosm...\n",
       "Hair color               No HairNo HairNo HairNo HairBlackNo HairBlondB...\n",
       "Height                                                             74916.5\n",
       "Skin color               -bluered------------black----------------grey-...\n",
       "Alignment                goodgoodgoodbadbadbadgoodgoodgoodgoodbadbadgoo...\n",
       "Weight                                                             34466.7\n",
       "Length: 175, dtype: object"
      ]
     },
     "execution_count": 35,
     "metadata": {},
     "output_type": "execute_result"
    }
   ],
   "source": [
    "heroes_and_powers_df.sum()"
   ]
  },
  {
   "cell_type": "markdown",
   "metadata": {},
   "source": [
    "Taking the sum of all the columns is giving me some weird results.  This is because it is taking the sum of all columns regardless of datatype.  I do not want them take the sums of columns that are not integers. "
   ]
  },
  {
   "cell_type": "code",
   "execution_count": 39,
   "metadata": {},
   "outputs": [
    {
     "data": {
      "text/plain": [
       "Agility                  244\n",
       "Accelerated Healing      181\n",
       "Lantern Power Ring        11\n",
       "Dimensional Awareness     25\n",
       "Cold Resistance           49\n",
       "Durability               262\n",
       "Stealth                  132\n",
       "Energy Absorption         77\n",
       "Flight                   212\n",
       "Danger Sense              34\n",
       "Underwater breathing      23\n",
       "Marksmanship             124\n",
       "Weapons Master           107\n",
       "Power Augmentation         8\n",
       "Animal Attributes         26\n",
       "Longevity                116\n",
       "Intelligence             158\n",
       "Super Strength           362\n",
       "Cryokinesis               20\n",
       "Telepathy                 92\n",
       "Energy Armor               8\n",
       "Energy Blasts            148\n",
       "Duplication               17\n",
       "Size Changing             55\n",
       "Density Control           15\n",
       "Stamina                  294\n",
       "Astral Travel              4\n",
       "Audio Control              8\n",
       "Dexterity                  6\n",
       "Omnitrix                   1\n",
       "                        ... \n",
       "Intuitive aptitude         1\n",
       "Vision - Microscopic      19\n",
       "Melting                    2\n",
       "Wind Control               3\n",
       "Super Breath              23\n",
       "Wallcrawling              36\n",
       "Vision - Night            38\n",
       "Vision - Infrared         24\n",
       "Grim Reaping               3\n",
       "Matter Absorption         10\n",
       "The Force                  6\n",
       "Resurrection              14\n",
       "Terrakinesis               2\n",
       "Vision - Heat             19\n",
       "Vitakinesis                2\n",
       "Radar Sense                6\n",
       "Qwardian Power Ring        2\n",
       "Weather Control            7\n",
       "Vision - X-Ray            25\n",
       "Vision - Thermal          25\n",
       "Web Creation              16\n",
       "Reality Warping           14\n",
       "Odin Force                 2\n",
       "Symbiote Costume          10\n",
       "Speed Force                1\n",
       "Phoenix Force              1\n",
       "Molecular Dissipation      1\n",
       "Vision - Cryo              1\n",
       "Omnipresent                2\n",
       "Omniscient                 2\n",
       "Length: 167, dtype: int64"
      ]
     },
     "execution_count": 39,
     "metadata": {},
     "output_type": "execute_result"
    }
   ],
   "source": [
    "heroes_and_powers_df.loc[:, heroes_and_powers_df.dtypes == np.int64].sum()"
   ]
  },
  {
   "cell_type": "markdown",
   "metadata": {},
   "source": [
    "All right I have counts for each column that is an integer.  I now want to put it in a pandas dataframe, so that I can more easily sort and plot the data.\n",
    "\n",
    "## Step 4: Make New DataFrame with each column and the count"
   ]
  },
  {
   "cell_type": "code",
   "execution_count": 40,
   "metadata": {
    "collapsed": true
   },
   "outputs": [],
   "source": [
    "df = pd.DataFrame(heroes_and_powers_df.loc[:, heroes_and_powers_df.dtypes == np.int64].sum())"
   ]
  },
  {
   "cell_type": "code",
   "execution_count": 41,
   "metadata": {},
   "outputs": [
    {
     "data": {
      "text/html": [
       "<div>\n",
       "<style scoped>\n",
       "    .dataframe tbody tr th:only-of-type {\n",
       "        vertical-align: middle;\n",
       "    }\n",
       "\n",
       "    .dataframe tbody tr th {\n",
       "        vertical-align: top;\n",
       "    }\n",
       "\n",
       "    .dataframe thead th {\n",
       "        text-align: right;\n",
       "    }\n",
       "</style>\n",
       "<table border=\"1\" class=\"dataframe\">\n",
       "  <thead>\n",
       "    <tr style=\"text-align: right;\">\n",
       "      <th></th>\n",
       "      <th>0</th>\n",
       "    </tr>\n",
       "  </thead>\n",
       "  <tbody>\n",
       "    <tr>\n",
       "      <th>Agility</th>\n",
       "      <td>244</td>\n",
       "    </tr>\n",
       "    <tr>\n",
       "      <th>Accelerated Healing</th>\n",
       "      <td>181</td>\n",
       "    </tr>\n",
       "    <tr>\n",
       "      <th>Lantern Power Ring</th>\n",
       "      <td>11</td>\n",
       "    </tr>\n",
       "    <tr>\n",
       "      <th>Dimensional Awareness</th>\n",
       "      <td>25</td>\n",
       "    </tr>\n",
       "    <tr>\n",
       "      <th>Cold Resistance</th>\n",
       "      <td>49</td>\n",
       "    </tr>\n",
       "  </tbody>\n",
       "</table>\n",
       "</div>"
      ],
      "text/plain": [
       "                         0\n",
       "Agility                244\n",
       "Accelerated Healing    181\n",
       "Lantern Power Ring      11\n",
       "Dimensional Awareness   25\n",
       "Cold Resistance         49"
      ]
     },
     "execution_count": 41,
     "metadata": {},
     "output_type": "execute_result"
    }
   ],
   "source": [
    "df.head()"
   ]
  },
  {
   "cell_type": "markdown",
   "metadata": {},
   "source": [
    "Looks pretty good.  I do want to change the column header to something that is a little more relevant.  \n",
    "\n",
    "## Step 5: Update the column name"
   ]
  },
  {
   "cell_type": "code",
   "execution_count": 42,
   "metadata": {
    "collapsed": true
   },
   "outputs": [],
   "source": [
    "df.columns = ['Count']"
   ]
  },
  {
   "cell_type": "code",
   "execution_count": 44,
   "metadata": {},
   "outputs": [
    {
     "data": {
      "text/html": [
       "<div>\n",
       "<style scoped>\n",
       "    .dataframe tbody tr th:only-of-type {\n",
       "        vertical-align: middle;\n",
       "    }\n",
       "\n",
       "    .dataframe tbody tr th {\n",
       "        vertical-align: top;\n",
       "    }\n",
       "\n",
       "    .dataframe thead th {\n",
       "        text-align: right;\n",
       "    }\n",
       "</style>\n",
       "<table border=\"1\" class=\"dataframe\">\n",
       "  <thead>\n",
       "    <tr style=\"text-align: right;\">\n",
       "      <th></th>\n",
       "      <th>Count</th>\n",
       "    </tr>\n",
       "  </thead>\n",
       "  <tbody>\n",
       "    <tr>\n",
       "      <th>Agility</th>\n",
       "      <td>244</td>\n",
       "    </tr>\n",
       "    <tr>\n",
       "      <th>Accelerated Healing</th>\n",
       "      <td>181</td>\n",
       "    </tr>\n",
       "    <tr>\n",
       "      <th>Lantern Power Ring</th>\n",
       "      <td>11</td>\n",
       "    </tr>\n",
       "    <tr>\n",
       "      <th>Dimensional Awareness</th>\n",
       "      <td>25</td>\n",
       "    </tr>\n",
       "    <tr>\n",
       "      <th>Cold Resistance</th>\n",
       "      <td>49</td>\n",
       "    </tr>\n",
       "  </tbody>\n",
       "</table>\n",
       "</div>"
      ],
      "text/plain": [
       "                       Count\n",
       "Agility                  244\n",
       "Accelerated Healing      181\n",
       "Lantern Power Ring        11\n",
       "Dimensional Awareness     25\n",
       "Cold Resistance           49"
      ]
     },
     "execution_count": 44,
     "metadata": {},
     "output_type": "execute_result"
    }
   ],
   "source": [
    "df.head()"
   ]
  },
  {
   "cell_type": "markdown",
   "metadata": {},
   "source": [
    "Looks good.  Now I want to sort and show the top 5 highest counts.\n",
    "\n",
    "## Step 6: Find Top 5 Most Common Powers"
   ]
  },
  {
   "cell_type": "code",
   "execution_count": 47,
   "metadata": {},
   "outputs": [
    {
     "data": {
      "text/plain": [
       "Super Strength    362\n",
       "Stamina           294\n",
       "Durability        262\n",
       "Super Speed       251\n",
       "Agility           244\n",
       "Name: Count, dtype: int64"
      ]
     },
     "execution_count": 47,
     "metadata": {},
     "output_type": "execute_result"
    }
   ],
   "source": [
    "df['Count'].sort_values(ascending = False).head()"
   ]
  },
  {
   "cell_type": "markdown",
   "metadata": {},
   "source": [
    "## Step 7: Plot the Top 5 Most Common Powers"
   ]
  },
  {
   "cell_type": "code",
   "execution_count": 50,
   "metadata": {
    "collapsed": true
   },
   "outputs": [],
   "source": [
    "import matplotlib.pyplot as plt\n",
    "plt.style.use('fivethirtyeight')"
   ]
  },
  {
   "cell_type": "code",
   "execution_count": 53,
   "metadata": {},
   "outputs": [
    {
     "data": {
      "image/png": "[encoded data removed]",
      "text/plain": [
       "<matplotlib.figure.Figure at 0x118dfc7b8>"
      ]
     },
     "metadata": {},
     "output_type": "display_data"
    }
   ],
   "source": [
    "df['Count'].sort_values(ascending = False).head().plot(kind = 'bar')\n",
    "plt.title('5 Most Common Super Powers')\n",
    "plt.show()"
   ]
  }
 ],
 "metadata": {
  "kernelspec": {
   "display_name": "Python 3",
   "language": "python",
   "name": "python3"
  },
  "language_info": {
   "codemirror_mode": {
    "name": "ipython",
    "version": 3
   },
   "file_extension": ".py",
   "mimetype": "text/x-python",
   "name": "python",
   "nbconvert_exporter": "python",
   "pygments_lexer": "ipython3",
   "version": "3.6.5"
  }
 },
 "nbformat": 4,
 "nbformat_minor": 2
}
